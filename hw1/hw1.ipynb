{
 "cells": [
  {
   "cell_type": "markdown",
   "id": "4ce4c6fb",
   "metadata": {},
   "source": [
    "## Import Package"
   ]
  },
  {
   "cell_type": "code",
   "execution_count": 11,
   "id": "879a13a6",
   "metadata": {},
   "outputs": [],
   "source": [
    "import matplotlib.pyplot as plt\n",
    "import numpy as np"
   ]
  },
  {
   "cell_type": "markdown",
   "id": "468d599e",
   "metadata": {},
   "source": [
    "## Define function"
   ]
  },
  {
   "cell_type": "code",
   "execution_count": 12,
   "id": "5499fe74",
   "metadata": {},
   "outputs": [],
   "source": [
    "class Matrix:\n",
    "    def __init__(self, m, n, data):\n",
    "        self.m = m\n",
    "        self.n = n\n",
    "        self.mat = data\n",
    "        \n",
    "    @classmethod\n",
    "    def identity (cls, n):\n",
    "        mat = [[0 for i in range(n)] for j in range(n)]\n",
    "        for i in range(n):\n",
    "            mat[i][i] = 1\n",
    "        return Matrix(n, n, mat)\n",
    "    \n",
    "    @classmethod\n",
    "    def zeros(cls, m, n):\n",
    "        mat = [[0 for i in range(n)] for j in range(m)]\n",
    "        return Matrix(m, n, mat)\n",
    "        \n",
    "    def mult (self, B):\n",
    "        mat = [[0 for i in range(B.n)] for j in range(self.m)]\n",
    "        for i in range(self.m):\n",
    "            for j in range(B.n):\n",
    "                for k in range(self.n):\n",
    "                    mat[i][j] += self.mat[i][k] * B.mat[k][j]\n",
    "        return Matrix(self.m, B.n, mat)\n",
    "    \n",
    "    def multScalar (self, scalar):\n",
    "        mat = [[0 for i in range(self.n)] for j in range(self.m)]\n",
    "        for i in range(self.m):\n",
    "            for j in range(self.n):\n",
    "                mat[i][j] = self.mat[i][j] * scalar\n",
    "        return Matrix(self.m, self.n, mat)\n",
    "                    \n",
    "    def add (self, B):\n",
    "        mat = [[0 for i in range(self.n)] for j in range(self.m)]\n",
    "        for i in range(self.m):\n",
    "            for j in range(self.n):\n",
    "                mat[i][j] = self.mat[i][j] + B.mat[i][j]\n",
    "        return Matrix(self.m, self.n, mat)\n",
    "                \n",
    "    def sub (self, B):\n",
    "        mat = [[0 for i in range(self.n)] for j in range(self.m)]\n",
    "        for i in range(self.m):\n",
    "            for j in range(self.n):\n",
    "                mat[i][j] = self.mat[i][j] - B.mat[i][j]\n",
    "        return Matrix(self.m, self.n, mat)\n",
    "                \n",
    "    def Transpose (self):\n",
    "        mat = [[0 for i in range(self.m)] for j in range(self.n)]\n",
    "        for i in range(self.m):\n",
    "            for j in range(self.n):\n",
    "                mat[j][i] = self.mat[i][j]\n",
    "        return Matrix(self.n, self.m, mat)\n",
    "    \n",
    "    def inverse (self):\n",
    "        # Use Gauss elimination\n",
    "        \n",
    "        n = self.n\n",
    "        \n",
    "        I_n = Matrix.identity(n)\n",
    "        gauss = self.mat\n",
    "        for i in range(n):\n",
    "            gauss[i].extend(I_n.mat[i])\n",
    "            \n",
    "        for i in range(n):\n",
    "            for j in range(i + 1, n):\n",
    "                r = gauss[j][i] / gauss[i][i]\n",
    "                for k in range(i, 2 * n):\n",
    "                    gauss[j][k] -= (gauss[i][k] * r)\n",
    "            for j in range(2 * n - 1, i - 1, -1):\n",
    "                gauss[i][j] /= gauss[i][i]\n",
    "        \n",
    "        for i in range(n - 1, -1, -1):\n",
    "            for j in range(i - 1, -1, -1):\n",
    "                r = gauss[j][i]\n",
    "                for k in range(i, 2 * n):\n",
    "                    gauss[j][k] -= (gauss[i][k] * r)\n",
    "                \n",
    "        mat = [[0 for i in range(n)] for j in range(n)]\n",
    "        for i in range(n):\n",
    "            for j in range(n):\n",
    "                mat[i][j] = gauss[i][j + n]\n",
    "        \n",
    "        return Matrix(n, n, mat)"
   ]
  },
  {
   "cell_type": "code",
   "execution_count": 13,
   "id": "3517e27a",
   "metadata": {},
   "outputs": [],
   "source": [
    "class Solve:\n",
    "    def __init__(self, path, n, Lambda):\n",
    "        self.path = path\n",
    "        self.n = n\n",
    "        self.Lambda = Lambda\n",
    "        self.x = []\n",
    "        self.y = []\n",
    "\n",
    "    def getData (self):\n",
    "        with open (self.path, 'r') as f:\n",
    "            for line in f.readlines():\n",
    "                data = line.replace('\\n', '').split(',')\n",
    "                self.x.append(float(data[0]))\n",
    "                self.y.append(float(data[1]))\n",
    "\n",
    "        self.A = Matrix.zeros(len(self.x), self.n)\n",
    "        self.b = []\n",
    "        for i in range(len(self.y)):\n",
    "            self.b.append([])\n",
    "            self.b[i].append(self.y[i])\n",
    "        self.b = Matrix(len(self.y), 1, self.b)\n",
    "        \n",
    "        for idx, x in enumerate(self.x):\n",
    "            for exp in range(self.n):\n",
    "                self.A.mat[idx][exp] = x ** exp\n",
    "\n",
    "##\n",
    "def f (x, weights):\n",
    "    n = len(weights)\n",
    "    y = [0] * len(x)\n",
    "    for idx, num in enumerate(x):\n",
    "        for i in range(n):\n",
    "            y[idx] += ((num ** i) * weights[i][0])\n",
    "    return y"
   ]
  },
  {
   "cell_type": "markdown",
   "id": "bae823a8",
   "metadata": {},
   "source": [
    "## Input Parameter"
   ]
  },
  {
   "cell_type": "code",
   "execution_count": 42,
   "id": "da2b3aa4",
   "metadata": {},
   "outputs": [],
   "source": [
    "path = './testfile.txt'\n",
    "n = 3\n",
    "Lambda = 10000"
   ]
  },
  {
   "cell_type": "markdown",
   "id": "7397dcf5",
   "metadata": {},
   "source": [
    "## LSE method"
   ]
  },
  {
   "cell_type": "code",
   "execution_count": 43,
   "id": "e19cffcb",
   "metadata": {
    "scrolled": false
   },
   "outputs": [],
   "source": [
    "solve = Solve(path, n, Lambda)\n",
    "solve.getData()"
   ]
  },
  {
   "cell_type": "code",
   "execution_count": 44,
   "id": "041acbdc",
   "metadata": {},
   "outputs": [],
   "source": [
    "A = solve.A.Transpose().mult(solve.A).add(Matrix.identity(solve.n).multScalar(solve.Lambda))\n",
    "\n",
    "# find inv\n",
    "inv = A.inverse()\n",
    "    \n",
    "LSEweights = inv.mult(solve.A.Transpose()).mult(solve.b)"
   ]
  },
  {
   "cell_type": "markdown",
   "id": "cd77d409",
   "metadata": {},
   "source": [
    "## Newton's method"
   ]
  },
  {
   "cell_type": "code",
   "execution_count": 45,
   "id": "a63a7f13",
   "metadata": {},
   "outputs": [],
   "source": [
    "NewtonWeights = Matrix.zeros(n, 1)\n",
    "for i in range(1):\n",
    "    Hessian_f = solve.A.Transpose().mult(solve.A).multScalar(2)\n",
    "    gradient_f = Hessian_f.mult(NewtonWeights).sub(solve.A.Transpose().mult(solve.b).multScalar(2))\n",
    "    NewtonWeights = NewtonWeights.sub(Hessian_f.inverse().mult(gradient_f))"
   ]
  },
  {
   "cell_type": "markdown",
   "id": "a5a0339e",
   "metadata": {},
   "source": [
    "## Result"
   ]
  },
  {
   "cell_type": "code",
   "execution_count": 46,
   "id": "43131ceb",
   "metadata": {},
   "outputs": [
    {
     "name": "stdout",
     "output_type": "stream",
     "text": [
      "LSE:\n",
      "Fitting line: 0.8345332827003X^2 + 0.0931481983192X^1 + 0.0469506992735\n",
      "Total error: 22649.7384930241\n",
      "\n",
      "Newton's method:\n",
      "Fitting line: 3.0238533934866X^2 + 4.9061902638638X^1 - 0.2314017560877\n",
      "Total error: 26.5599594993\n"
     ]
    }
   ],
   "source": [
    "print('LSE:')\n",
    "print('Fitting line: ', end = '')\n",
    "print(f'{LSEweights.mat[solve.n - 1][0]:.13f}X^{solve.n - 1}', end = '')\n",
    "for i in range(solve.n - 2, 0, -1):\n",
    "    if LSEweights.mat[i][0] < 0:\n",
    "        print(f' - {-LSEweights.mat[i][0]:.13f}X^{i}', end = '')\n",
    "    else:\n",
    "        print(f' + {LSEweights.mat[i][0]:.13f}X^{i}', end = '')\n",
    "if LSEweights.mat[0][0] < 0:\n",
    "        print(f' - {-LSEweights.mat[0][0]:.13f}')\n",
    "else:\n",
    "        print(f' + {LSEweights.mat[0][0]:.13f}')\n",
    "\n",
    "diff = solve.A.mult(LSEweights).sub(solve.b)\n",
    "print(f'Total error: {diff.Transpose().mult(diff).mat[0][0]:.10f}')\n",
    "\n",
    "\n",
    "\n",
    "print(\"\\nNewton's method:\")\n",
    "print('Fitting line: ', end = '')\n",
    "print(f'{NewtonWeights.mat[solve.n - 1][0]:.13f}X^{solve.n - 1}', end = '')\n",
    "for i in range(solve.n - 2, 0, -1):\n",
    "    if NewtonWeights.mat[i][0] < 0:\n",
    "        print(f' - {-NewtonWeights.mat[i][0]:.13f}X^{i}', end = '')\n",
    "    else:\n",
    "        print(f' + {NewtonWeights.mat[i][0]:.13f}X^{i}', end = '')\n",
    "if NewtonWeights.mat[0][0] < 0:\n",
    "    print(f' - {-NewtonWeights.mat[0][0]:.13f}')\n",
    "else:\n",
    "    print(f' + {NewtonWeights.mat[0][0]:.13f}')\n",
    "\n",
    "diff = solve.A.mult(NewtonWeights).sub(solve.b)\n",
    "print(f'Total error: {diff.Transpose().mult(diff).mat[0][0]:.10f}')"
   ]
  },
  {
   "cell_type": "markdown",
   "id": "79f38e68",
   "metadata": {},
   "source": [
    "## Plot"
   ]
  },
  {
   "cell_type": "code",
   "execution_count": 47,
   "id": "5e8e47aa",
   "metadata": {},
   "outputs": [
    {
     "data": {
      "image/png": "[encoded data removed]",
      "text/plain": [
       "<Figure size 432x288 with 1 Axes>"
      ]
     },
     "metadata": {
      "needs_background": "light"
     },
     "output_type": "display_data"
    }
   ],
   "source": [
    "plt.scatter(solve.x, solve.y, color = 'red')\n",
    "x = np.arange(-6, 6, 0.01)\n",
    "y = f(x, LSEweights.mat)\n",
    "plt.plot(x, y, color = 'black')\n",
    "plt.title('LSE')\n",
    "plt.show()"
   ]
  },
  {
   "cell_type": "code",
   "execution_count": 48,
   "id": "5de80e5f",
   "metadata": {},
   "outputs": [
    {
     "data": {
      "image/png": "[encoded data removed]",
      "text/plain": [
       "<Figure size 432x288 with 1 Axes>"
      ]
     },
     "metadata": {
      "needs_background": "light"
     },
     "output_type": "display_data"
    }
   ],
   "source": [
    "plt.scatter(solve.x, solve.y, color = 'red')\n",
    "x = np.arange(-6, 6, 0.01)\n",
    "y = f(x, NewtonWeights.mat)\n",
    "plt.plot(x, y, color = 'black')\n",
    "plt.title(\"Newton's method\")\n",
    "plt.show()"
   ]
  },
  {
   "cell_type": "code",
   "execution_count": null,
   "id": "d8cc4554",
   "metadata": {},
   "outputs": [],
   "source": []
  }
 ],
 "metadata": {
  "kernelspec": {
   "display_name": "Python 3 (ipykernel)",
   "language": "python",
   "name": "python3"
  },
  "language_info": {
   "codemirror_mode": {
    "name": "ipython",
    "version": 3
   },
   "file_extension": ".py",
   "mimetype": "text/x-python",
   "name": "python",
   "nbconvert_exporter": "python",
   "pygments_lexer": "ipython3",
   "version": "3.8.13"
  }
 },
 "nbformat": 4,
 "nbformat_minor": 5
}
